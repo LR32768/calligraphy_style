{
 "metadata": {
  "language_info": {
   "codemirror_mode": {
    "name": "ipython",
    "version": 3
   },
   "file_extension": ".py",
   "mimetype": "text/x-python",
   "name": "python",
   "nbconvert_exporter": "python",
   "pygments_lexer": "ipython3",
   "version": "3.8.5"
  },
  "orig_nbformat": 2,
  "kernelspec": {
   "name": "python385jvsc74a57bd06dba5e42ab1708da9fc1a84d1d52aa58af6dfba0938236b2df61c6a88cfb915d",
   "display_name": "Python 3.8.5 64-bit ('base': conda)"
  }
 },
 "nbformat": 4,
 "nbformat_minor": 2,
 "cells": [
  {
   "cell_type": "code",
   "execution_count": 3,
   "metadata": {},
   "outputs": [
    {
     "output_type": "stream",
     "name": "stdout",
     "text": [
      "19988:且\n19989:丕\n19990:世\n19991:丗\n19992:丘\n19993:丙\n19994:业\n19995:丛\n19996:东\n19997:丝\n"
     ]
    }
   ],
   "source": [
    "for i in range(19988, 19988+10):\n",
    "    print(f'{i}:{chr(i)}')"
   ]
  },
  {
   "cell_type": "code",
   "execution_count": 4,
   "metadata": {},
   "outputs": [
    {
     "output_type": "execute_result",
     "data": {
      "text/plain": [
       "26408"
      ]
     },
     "metadata": {},
     "execution_count": 4
    }
   ],
   "source": [
    "ord('木')"
   ]
  }
 ]
}